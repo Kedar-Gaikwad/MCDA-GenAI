{
 "cells": [
  {
   "cell_type": "code",
   "execution_count": null,
   "metadata": {},
   "outputs": [],
   "source": [
    "# NEED TO INSTALL\n",
    "# Ollama, ollama pull <required model>\n",
    "# Pandoc, Miktex (for transfer markdown to PDF). If you just need markdown file, don't need to install them\n"
   ]
  },
  {
   "cell_type": "code",
   "execution_count": 1,
   "metadata": {},
   "outputs": [
    {
     "name": "stderr",
     "output_type": "stream",
     "text": [
      "d:\\anaconda\\envs\\ml\\lib\\site-packages\\tqdm\\auto.py:21: TqdmWarning: IProgress not found. Please update jupyter and ipywidgets. See https://ipywidgets.readthedocs.io/en/stable/user_install.html\n",
      "  from .autonotebook import tqdm as notebook_tqdm\n"
     ]
    }
   ],
   "source": [
    "import torch\n",
    "from transformers import AutoTokenizer, AutoModelForCausalLM\n",
    "import pypandoc\n",
    "import re"
   ]
  },
  {
   "cell_type": "code",
   "execution_count": 2,
   "metadata": {},
   "outputs": [],
   "source": [
    "# Check if GPU is available\n",
    "device = torch.device(\"cuda\" if torch.cuda.is_available() else \"cpu\")\n",
    "torch.cuda.empty_cache()"
   ]
  },
  {
   "cell_type": "code",
   "execution_count": 35,
   "metadata": {},
   "outputs": [],
   "source": [
    "context = '''\n",
    "\n",
    "Goal: Take anonymized audio Medical notes and generate a structured report based on the extracted information. The report should resemble clinical notes as closely as possible, containing patient information, FINDINGS, and comments. Each line of Findings and comments must be in a array.\n",
    "\n",
    "You will be provided with the following examples:\n",
    "\n",
    "Four anonymized clinical notes from sonography sessions\n",
    "Corresponding anonymized audio notes (Note: Audio recordings may contain less information than the clinical notes).\n",
    "\n",
    "\n",
    "anonymized audio note1: Early pregnancy LMP 4th October 2024 EDD 11th July 2025 D5 week 6 days Single intrauterine gestational sac is seen Fetal pole is not seen yet YAC sac seen Decidual reaction present No membrane separation is seen MHD 1.45 mm 1.45 cm Maturity 5 weeks 5 days Right over in normal Left over in odd scene History of removal noted\n",
    "\n",
    "clinical note1: NAME:  DATE- 14 NOV 2024 SEX: FEMALE AGE: 31 YRS REF. BY:  UHID NO: 62576/ OP D EXAMINATION: GRAV IDU TERU S LMP- 04/10/2024 D- 5 W ks 6 Days EDD- 11/07/2025 FINDINGS:  The grav id uterus show' s smooth walled gestation al sac.  A yolk sac is seen. Foetal pole is not seen yet.  Decidual reaction seen.  No. membrane separation is seen.  MS D- 1.45 m D- 5 W ks 5 Days Right ovary normal.  Left ovary not seen. H/ O removal.  No aden ex al pathology seen.  No free fluid is seen in POD.  Comments: Early intra uterine pregnancy of age- 5 w ks 5 days\n",
    "\n",
    "anonymized audio note2: liver is normal both kidney are normal in size and echo and both ureter are not dilated urinary bladder is well distended no calculus or mass seen uterus is normal in size the myometrial and endometrial echo are normal the endometrial cavity is empty ET 6 mm both ovaries are normal and minimal free fluid in lower abdomen\n",
    "\n",
    "clinical note2: Name Date- 04 Dec 2024 Sex Female Age- 19 Yrs Ref. By Uni. ID- 86451/ IPD Examination: USG of Abdomen and Pelvis Findings:  The liver appears normal in size and echo. No focal or diffuse lesion is seen.  NoI HBR dilatation is seen. The portal and hepatic veins are normal.  The gall bladder is distended. No calculus or mass is seen. The wall thickness is normal.  CBD is of normal caliber.  Spleen is of normal size and echo. No focal or diffuse lesion seen.  Pancreas is normal in echo. The pancreatic duct is not dilated.  Both kidneys are normal in size and echo. The CM differentiation is preserved. No calculus or hydrone phrosis is seen. No perinephric pathology seen.  RK- 90 x 40 mm PT- 12 mm LK- 99 x 44 mm PT- 14 mm Both the ureters are not dilated.  Urinary bladder is well distended. No calculus or mass is seen.  Uterus is normal in size. The myometrial and endometrial echo are normal. The endometrial cavity is empty. ET- 6 mm.  Both ovaries are normal. No aden exal pathology is seen.  No lymph nodes seen. No obvious bowel lesion seen.  There is a minimal free fluid is seen in lower abdomen.  Comments:  Minimal free fluid in lower abdomen.  Clinical correlation and followup\n",
    "\n",
    "anonymized audio note3:  Single live intrauterine fetus is seen in URTEX presentation. Fetal cardiac activity and movements are appreciated. FHR 136 per minute, LICAR is less, AFI 8.6 cm, placenta is posterior, left lateral, 3 vessel cord is seen. called a scene the PD 8.66 HC 32.7 AC 30.6 T FL 6.62 HL 6.07 average 35 plus 2 weight 2 4 6 9 color Doppler examination within normal limits mild oligohydronius\n",
    "\n",
    "clinical note3: NAME:  DATE: 13 DEC 2024 SEX/ AGE: FEMALE/ 30 YRS REF. BY:  EXAM: OBSTETRICS USG LMP- 07/04/2024 D- 35 W KS 5 DAYS ED D- 12/01/2025 FINDINGS:  Single live intra ture r in e foe tus is seen in vertex presentation.  The foe tal cardiac activity and movements are appreciated. F HR- 136/ bpm.  Liquor is less. AFI- 8.6 cm.  Placenta is posterior, left lateral.  Three vessel cord is seen.  No obvious congenital anomalies are seen in the present foetal position.  Detection of anomalies depends upon the gestational age, foetal position.  amount of liquor and maternal abdominal wall thickness. Not all anomalies are detected on USG. Gender evaluation is not done as per the P CP ND T law.  The foetal parameters areas follows-  BPD 8.66 cm.  HC 32.70 cm.  AC 30.60 cm.  FL 6.62 cm.  HL 6.07 cm.  Average gestational age- 35 w ks 2 days EFB W- 2469 gm s± 10%  ART ER Y PI RI S/ D Umbilical 1.00 0.63 2.74 Right uter in e 0.61 0.40 1.67 Left uter in e 0.84 0.55 2.20 MCA 1.45 0.79 4.84 COMMENTS:  Single intra ture r in e foetus in vertex presentation with average gestational age of 35 w ks 2 days Less liquor.\n",
    "\n",
    "anonymized audio note4:  Pelvic Ultrasound Examination Uterus is bulky, globular and shows adenomyotic changes Majors 8.5 x 6.34 x 5.7 cm Endometrial equal central and normal, ET 6.6 Both ovaries normal, no adenoxyl pathology, no free fluid is seen in pouch of Douglas Adenomyosis uterus\n",
    "\n",
    "clinical note4: NAME SEX:  FEMALE DATE: 03 JAN 2024 REF. BY:  AGE: 22 YRS EXAMINATION: GRAV I DU TERU S UH ID NO: 80768/ OP D LMP- 15/11/2024 D- 7 W ks ED D- 22/08/2025 FINDINGS:  The gravid uterus shows smooth walled gestation al sac.  A foetal pole is seen.  Cardiac activity is appreciated.  Decidual reaction is good.  C RL- 3 mm D- 5 W ks 6 Days Tiny blood collection seen just above internal os, measuring 5.9 x 2.8 mm.  CER VIX- 4 cms No aden exal pathology seen.  No free fluid is seen in POD.  Comments:  Early intra uterine pregnancy of age- 5 W ks 6 Days Delayed conception. USG ED D- 30/08/2025 Tiny blood collection just above internal os.\n",
    "'''"
   ]
  },
  {
   "cell_type": "code",
   "execution_count": 7,
   "metadata": {},
   "outputs": [
    {
     "name": "stdout",
     "output_type": "stream",
     "text": [
      "Requirement already satisfied: openai in c:\\users\\anuja\\appdata\\roaming\\python\\python312\\site-packages (1.66.3)\n",
      "Requirement already satisfied: anyio<5,>=3.5.0 in c:\\users\\anuja\\appdata\\roaming\\python\\python312\\site-packages (from openai) (4.8.0)\n",
      "Requirement already satisfied: distro<2,>=1.7.0 in c:\\users\\anuja\\appdata\\roaming\\python\\python312\\site-packages (from openai) (1.9.0)\n",
      "Requirement already satisfied: httpx<1,>=0.23.0 in c:\\users\\anuja\\appdata\\roaming\\python\\python312\\site-packages (from openai) (0.28.1)\n",
      "Requirement already satisfied: jiter<1,>=0.4.0 in c:\\users\\anuja\\appdata\\roaming\\python\\python312\\site-packages (from openai) (0.9.0)\n",
      "Requirement already satisfied: pydantic<3,>=1.9.0 in c:\\users\\anuja\\appdata\\roaming\\python\\python312\\site-packages (from openai) (2.10.6)\n",
      "Requirement already satisfied: sniffio in c:\\users\\anuja\\appdata\\roaming\\python\\python312\\site-packages (from openai) (1.3.1)\n",
      "Requirement already satisfied: tqdm>4 in c:\\users\\anuja\\appdata\\roaming\\python\\python312\\site-packages (from openai) (4.67.1)\n",
      "Requirement already satisfied: typing-extensions<5,>=4.11 in c:\\users\\anuja\\appdata\\roaming\\python\\python312\\site-packages (from openai) (4.12.2)\n",
      "Requirement already satisfied: idna>=2.8 in c:\\users\\anuja\\appdata\\roaming\\python\\python312\\site-packages (from anyio<5,>=3.5.0->openai) (3.10)\n",
      "Requirement already satisfied: certifi in c:\\users\\anuja\\appdata\\roaming\\python\\python312\\site-packages (from httpx<1,>=0.23.0->openai) (2025.1.31)\n",
      "Requirement already satisfied: httpcore==1.* in c:\\users\\anuja\\appdata\\roaming\\python\\python312\\site-packages (from httpx<1,>=0.23.0->openai) (1.0.7)\n",
      "Requirement already satisfied: h11<0.15,>=0.13 in c:\\users\\anuja\\appdata\\roaming\\python\\python312\\site-packages (from httpcore==1.*->httpx<1,>=0.23.0->openai) (0.14.0)\n",
      "Requirement already satisfied: annotated-types>=0.6.0 in c:\\users\\anuja\\appdata\\roaming\\python\\python312\\site-packages (from pydantic<3,>=1.9.0->openai) (0.7.0)\n",
      "Requirement already satisfied: pydantic-core==2.27.2 in c:\\users\\anuja\\appdata\\roaming\\python\\python312\\site-packages (from pydantic<3,>=1.9.0->openai) (2.27.2)\n",
      "Requirement already satisfied: colorama in c:\\users\\anuja\\appdata\\roaming\\python\\python312\\site-packages (from tqdm>4->openai) (0.4.6)\n",
      "Note: you may need to restart the kernel to use updated packages.\n"
     ]
    }
   ],
   "source": [
    "%pip install openai"
   ]
  },
  {
   "cell_type": "code",
   "execution_count": null,
   "metadata": {},
   "outputs": [],
   "source": [
    "import os\n",
    "\n",
    "#os.environ['OPENAI_API_KEY'] = str(\"\")"
   ]
  },
  {
   "cell_type": "code",
   "execution_count": 37,
   "metadata": {},
   "outputs": [],
   "source": [
    "from openai import OpenAI\n",
    "import os\n",
    "\n",
    "client = OpenAI()\n",
    "client.api_key = os.environ.get(\"OPENAI_API_KEY\")\n",
    "\n",
    "def generate_gpt(query):\n",
    "    \n",
    "    prompt = context\n",
    "    prompt += f\"\\n\\nTesting anonymized audio note: {query}\\n\\n\"\n",
    "    prompt += \"\"\"Give me the corresponding report with JSON. The report should contain the following fields:\n",
    "             {\"patient_info\" :{'NAME': 'ANONIMIZED',\n",
    "'SEX':'',\n",
    "'AGE':'',\n",
    "'DATE':'',\n",
    "'UHID.NO':'',\n",
    "'REF. By': '',\n",
    "'OTHER': ''},\n",
    "\"findings\":[],\n",
    "\"comments\": []}\n",
    "    \"\"\"\n",
    "    prompt += \"Do not give me any output that does not conform to JSON format\\n\"\n",
    "\n",
    "    completion = client.chat.completions.create(\n",
    "        model=\"gpt-4o-mini\",\n",
    "        messages=[\n",
    "            {\"role\": \"system\", \"content\": \"You are a helpful assistant.\"},\n",
    "            {\n",
    "                \"role\": \"user\",\n",
    "                \"content\": prompt\n",
    "            }\n",
    "        ],\n",
    "        temperature=0.1\n",
    "    )\n",
    "\n",
    "    return completion.choices[0].message.content.strip()"
   ]
  },
  {
   "cell_type": "code",
   "execution_count": 5,
   "metadata": {},
   "outputs": [],
   "source": [
    "from ollama import chat\n",
    "from ollama import ChatResponse\n",
    "\n",
    "def generate_ollama(query, model_name):\n",
    "\n",
    "    prompt = context\n",
    "    prompt += f\"\\n\\nTesting anonymized audio note: {query}\\n\\n\"\n",
    "    prompt += \"Give me the corresponding report with a clear Markdown style, for Testing anonymized audio note.\\n\"\n",
    "    prompt += \"The Markdown report starts with '$$$$$$' and ends with '@@@@@@'.\\n\"\n",
    "    response: ChatResponse = chat(model=model_name, messages=[\n",
    "      {\n",
    "        'role': 'user',\n",
    "        'content': prompt,\n",
    "      },\n",
    "    ])\n",
    "\n",
    "    return response.message.content"
   ]
  },
  {
   "cell_type": "code",
   "execution_count": 6,
   "metadata": {},
   "outputs": [],
   "source": [
    "def clean_markdown_content(text):\n",
    "    lines = text.split('\\n')\n",
    "    \n",
    "    start_index = next((i for i, line in enumerate(lines) if \"$$$$$$\" in line), None)\n",
    "    end_index = next((i for i, line in enumerate(lines) if \"@@@@@@\" in line), None)\n",
    "\n",
    "    if end_index is not None:\n",
    "        lines = lines[:end_index]    \n",
    "    if start_index is not None:\n",
    "        lines = lines[start_index + 1:]\n",
    "\n",
    "    return '\\n'.join(lines).strip()"
   ]
  },
  {
   "cell_type": "code",
   "execution_count": 38,
   "metadata": {},
   "outputs": [],
   "source": [
    "# Need OPENAI_API_KEY in environment path\n",
    "with open(\"./anonymized/5.wav.txt\", \"r\", encoding=\"utf-8\") as file:\n",
    "    content = file.read()\n",
    "\n",
    "output = generate_gpt(content)\n"
   ]
  },
  {
   "cell_type": "code",
   "execution_count": 22,
   "metadata": {},
   "outputs": [],
   "source": [
    "output = output.replace(\"```\", '').replace(\"json\", '').replace(\"```\", '').strip().replace(\"\\n\", '').replace(\" \", '')"
   ]
  },
  {
   "cell_type": "code",
   "execution_count": 39,
   "metadata": {},
   "outputs": [],
   "source": [
    "output = output.replace(\"```\", '').replace(\"json\", '').replace(\"```\", '').strip().replace(\"\\n\", '')"
   ]
  },
  {
   "cell_type": "code",
   "execution_count": 40,
   "metadata": {},
   "outputs": [
    {
     "data": {
      "text/plain": [
       "'{  \"patient_info\": {    \"NAME\": \"ANONIMIZED\",    \"SEX\": \"FEMALE\",    \"AGE\": \"22 YRS\",    \"DATE\": \"03 JAN 2024\",    \"UHID.NO\": \"80768/ OP D\",    \"REF. By\": \"\",    \"OTHER\": \"LMP- 15/11/2024, EDD- 22/08/2025, D- 7 W ks\"  },  \"findings\": [    \"Gravid uterus shows smooth wall and gestational sac.\",    \"Fetal pole is seen.\",    \"Cardiac activity is appreciated.\",    \"Decidual reaction is good.\",    \"CRL 3 mm.\",    \"5 weeks 6 days.\",    \"Tiny blood collection seen just above internal os, measuring 5.9 x 2.8 mm.\",    \"Cervix measures 4 cm.\",    \"No adenexal pathology seen.\",    \"No free fluid is seen in pouch of Douglas.\"  ],  \"comments\": [    \"Early intrauterine pregnancy of age- 5 W ks 6 Days.\",    \"Delayed conception.\",    \"USG EDD- 30/08/2025.\",    \"Tiny blood collection just above internal os.\"  ]}'"
      ]
     },
     "execution_count": 40,
     "metadata": {},
     "output_type": "execute_result"
    }
   ],
   "source": [
    "output"
   ]
  },
  {
   "cell_type": "code",
   "execution_count": 41,
   "metadata": {},
   "outputs": [],
   "source": [
    "import json\n",
    "y = json.loads(output)"
   ]
  },
  {
   "cell_type": "code",
   "execution_count": 42,
   "metadata": {},
   "outputs": [
    {
     "data": {
      "text/plain": [
       "{'patient_info': {'NAME': 'ANONIMIZED',\n",
       "  'SEX': 'FEMALE',\n",
       "  'AGE': '22 YRS',\n",
       "  'DATE': '03 JAN 2024',\n",
       "  'UHID.NO': '80768/ OP D',\n",
       "  'REF. By': '',\n",
       "  'OTHER': 'LMP- 15/11/2024, EDD- 22/08/2025, D- 7 W ks'},\n",
       " 'findings': ['Gravid uterus shows smooth wall and gestational sac.',\n",
       "  'Fetal pole is seen.',\n",
       "  'Cardiac activity is appreciated.',\n",
       "  'Decidual reaction is good.',\n",
       "  'CRL 3 mm.',\n",
       "  '5 weeks 6 days.',\n",
       "  'Tiny blood collection seen just above internal os, measuring 5.9 x 2.8 mm.',\n",
       "  'Cervix measures 4 cm.',\n",
       "  'No adenexal pathology seen.',\n",
       "  'No free fluid is seen in pouch of Douglas.'],\n",
       " 'comments': ['Early intrauterine pregnancy of age- 5 W ks 6 Days.',\n",
       "  'Delayed conception.',\n",
       "  'USG EDD- 30/08/2025.',\n",
       "  'Tiny blood collection just above internal os.']}"
      ]
     },
     "execution_count": 42,
     "metadata": {},
     "output_type": "execute_result"
    }
   ],
   "source": [
    "y"
   ]
  },
  {
   "cell_type": "code",
   "execution_count": null,
   "metadata": {},
   "outputs": [],
   "source": [
    "output = output.replace(\"```\", '').replace(\"markdown\", '')\n",
    "\n",
    "with open(\"output_gpt-4o-mini.md\", \"w\", encoding=\"utf-8\") as f:\n",
    "    f.write(output)\n",
    "\n",
    "pypandoc.convert_file(\"output_gpt-4o-mini.md\", \"pdf\", outputfile=\"output_gpt-4o-mini.pdf\")"
   ]
  },
  {
   "cell_type": "code",
   "execution_count": 7,
   "metadata": {},
   "outputs": [
    {
     "name": "stderr",
     "output_type": "stream",
     "text": [
      "[WARNING] pdflatex: major issue: So far, you have not checked for updates as a MiKTeX user.\n",
      "\n"
     ]
    },
    {
     "data": {
      "text/plain": [
       "''"
      ]
     },
     "execution_count": 7,
     "metadata": {},
     "output_type": "execute_result"
    }
   ],
   "source": [
    "# llama3-8b\n",
    "with open(\"./anonymized/5.wav.txt\", \"r\", encoding=\"utf-8\") as file:\n",
    "    content = file.read()\n",
    "\n",
    "output = generate_ollama(content, 'llama3:8b')\n",
    "output = clean_markdown_content(output)\n",
    "\n",
    "with open(\"output_llama3-8b.md\", \"w\", encoding=\"utf-8\") as f:\n",
    "    f.write(output)\n",
    "\n",
    "pypandoc.convert_file(\"output_llama3-8b.md\", \"pdf\", outputfile=\"output_llama3-8b.pdf\")"
   ]
  },
  {
   "cell_type": "code",
   "execution_count": 73,
   "metadata": {},
   "outputs": [
    {
     "name": "stderr",
     "output_type": "stream",
     "text": [
      "[WARNING] pdflatex: major issue: So far, you have not checked for updates as a MiKTeX user.\n",
      "pdflatex: major issue: So far, you have not checked for updates as a MiKTeX user.\n",
      "\n"
     ]
    },
    {
     "data": {
      "text/plain": [
       "''"
      ]
     },
     "execution_count": 73,
     "metadata": {},
     "output_type": "execute_result"
    }
   ],
   "source": [
    "# qwen2.5:7b\n",
    "with open(\"./anonymized/5.wav.txt\", \"r\", encoding=\"utf-8\") as file:\n",
    "    content = file.read()\n",
    "\n",
    "model_name = 'qwen2.5:7b'\n",
    "output = generate_ollama(content, model_name)\n",
    "output = clean_markdown_content(output)\n",
    "\n",
    "markdown_name = f\"output_{model_name.replace(':', '-')}.md\"\n",
    "with open(markdown_name, \"w\", encoding=\"utf-8\") as f:\n",
    "    f.write(output)\n",
    "\n",
    "PDF_name = markdown_name.replace('.md', '.pdf')\n",
    "pypandoc.convert_file(markdown_name, \"pdf\", outputfile=PDF_name)"
   ]
  },
  {
   "cell_type": "code",
   "execution_count": 74,
   "metadata": {},
   "outputs": [
    {
     "name": "stderr",
     "output_type": "stream",
     "text": [
      "[WARNING] pdflatex: major issue: So far, you have not checked for updates as a MiKTeX user.\n",
      "\n"
     ]
    },
    {
     "data": {
      "text/plain": [
       "''"
      ]
     },
     "execution_count": 74,
     "metadata": {},
     "output_type": "execute_result"
    }
   ],
   "source": [
    "# phi4:latest\n",
    "with open(\"./anonymized/5.wav.txt\", \"r\", encoding=\"utf-8\") as file:\n",
    "    content = file.read()\n",
    "\n",
    "model_name = 'phi4:latest'\n",
    "output = generate_ollama(content, model_name)\n",
    "output = clean_markdown_content(output)\n",
    "\n",
    "markdown_name = f\"output_{model_name.replace(':', '-')}.md\"\n",
    "with open(markdown_name, \"w\", encoding=\"utf-8\") as f:\n",
    "    f.write(output)\n",
    "\n",
    "PDF_name = markdown_name.replace('.md', '.pdf')\n",
    "pypandoc.convert_file(markdown_name, \"pdf\", outputfile=PDF_name)"
   ]
  }
 ],
 "metadata": {
  "kernelspec": {
   "display_name": "open",
   "language": "python",
   "name": "python3"
  },
  "language_info": {
   "codemirror_mode": {
    "name": "ipython",
    "version": 3
   },
   "file_extension": ".py",
   "mimetype": "text/x-python",
   "name": "python",
   "nbconvert_exporter": "python",
   "pygments_lexer": "ipython3",
   "version": "3.12.4"
  }
 },
 "nbformat": 4,
 "nbformat_minor": 2
}
